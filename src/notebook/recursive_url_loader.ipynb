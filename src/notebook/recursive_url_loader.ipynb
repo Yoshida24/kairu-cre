{
 "cells": [
  {
   "cell_type": "markdown",
   "id": "8350c07b-6f1c-4f8e-950f-e594f345b426",
   "metadata": {},
   "source": [
    "# Recursive URL Loader\n",
    "Web上のドキュメントをクローリングし、ローカルに保存します。"
   ]
  },
  {
   "cell_type": "code",
   "execution_count": null,
   "id": "02f59465",
   "metadata": {},
   "outputs": [],
   "source": [
    "!pip install langchain-community\n",
    "!pip install bs4"
   ]
  },
  {
   "cell_type": "code",
   "execution_count": 8,
   "id": "e15a408f-d6f4-45ca-9197-2519b5169003",
   "metadata": {},
   "outputs": [
    {
     "name": "stdout",
     "output_type": "stream",
     "text": [
      "ページ数:159\n",
      "テキスト:     Dropbox | 🦜️🔗 Langchain        Skip to main c\n",
      "メタデータ:{'source': 'https://python.langchain.com/docs/integrations/document_loaders/dropbox', 'title': 'Dropbox | 🦜️🔗 Langchain', 'description': 'Dropbox is a file hosting', 'language': 'en'}\n"
     ]
    }
   ],
   "source": [
    "# recursive_url_loader の動作確認用コード\n",
    "# 再起的なコンテンツ取得ができているかを確認する\n",
    "from langchain_community.document_loaders.recursive_url_loader import RecursiveUrlLoader\n",
    "from bs4 import BeautifulSoup as Soup\n",
    "\n",
    "url = \"https://python.langchain.com/docs/integrations/document_loaders/\"\n",
    "loader = RecursiveUrlLoader(\n",
    "    url=url, max_depth=3, extractor=lambda x: Soup(x, \"html.parser\").text\n",
    ")\n",
    "docs = loader.load()\n",
    "\n",
    "print(f\"ページ数:{len(docs)}\")\n",
    "print(f\"テキスト:\" + docs[-1].page_content[:50].replace(\"\\n\", \" \"))\n",
    "print(f\"メタデータ:{docs[-1].metadata}\")"
   ]
  },
  {
   "cell_type": "code",
   "execution_count": 48,
   "id": "a6c50846",
   "metadata": {},
   "outputs": [],
   "source": [
    "# URL配下のドキュメントを再起的に取得し、CSVファイルに保存\n",
    "import os\n",
    "from datetime import datetime\n",
    "from langchain_community.document_loaders.recursive_url_loader import RecursiveUrlLoader\n",
    "from bs4 import BeautifulSoup as Soup\n",
    "import os\n",
    "import csv\n",
    "\n",
    "URL_ROOT = \"https://python.langchain.com/docs/integrations/document_loaders/\"\n",
    "MAX_DEPTH = 2\n",
    "\n",
    "def save_html_to_file(content, path):\n",
    "    with open(path, \"w\", encoding=\"utf-8\") as f:\n",
    "        f.write(content)\n",
    "\n",
    "def save_to_csv(docs, directory):\n",
    "    csv_path = os.path.join(directory, 'contents.csv')\n",
    "    with open(csv_path, 'w', newline='', encoding='utf-8') as csvfile:\n",
    "        fieldnames = [\n",
    "            \"source\",\n",
    "            \"title\",\n",
    "            \"description\",\n",
    "            \"content\",\n",
    "            \"language\",\n",
    "            \"docs_updated_at\",\n",
    "        ]\n",
    "        writer = csv.DictWriter(csvfile, fieldnames=fieldnames)\n",
    "        writer.writeheader()\n",
    "        for doc in docs:\n",
    "            content = doc.page_content.replace('\\n', '\\\\n')\n",
    "            writer.writerow(\n",
    "                {\n",
    "                    \"source\": doc.metadata[\"source\"],\n",
    "                    \"title\": doc.metadata[\"title\"],\n",
    "                    \"description\": doc.metadata.get(\"description\", \"\"),\n",
    "                    \"content\": content,\n",
    "                    \"language\": doc.metadata[\"language\"],\n",
    "                    \"docs_updated_at\": doc.metadata.get(\"docs_updated_at\", \"\"),\n",
    "                }\n",
    "            )\n",
    "\n",
    "def main():\n",
    "    loader = RecursiveUrlLoader(\n",
    "        url=URL_ROOT,\n",
    "        max_depth=MAX_DEPTH,\n",
    "        extractor=lambda x: Soup(x, \"html.parser\").text,\n",
    "    )\n",
    "    docs = loader.load()\n",
    "\n",
    "    # Create directory with current timestamp\n",
    "    directory = f\"./page_contents_{datetime.now().strftime('%Y%m%d%H%M%S')}/\"\n",
    "    os.makedirs(directory, exist_ok=True)\n",
    "\n",
    "    # Call the save_to_csv function with the docs variable and directory\n",
    "    save_to_csv(docs, directory)\n",
    "\n",
    "main()"
   ]
  }
 ],
 "metadata": {
  "kernelspec": {
   "display_name": "Python 3 (ipykernel)",
   "language": "python",
   "name": "python3"
  },
  "language_info": {
   "codemirror_mode": {
    "name": "ipython",
    "version": 3
   },
   "file_extension": ".py",
   "mimetype": "text/x-python",
   "name": "python",
   "nbconvert_exporter": "python",
   "pygments_lexer": "ipython3",
   "version": "3.11.0"
  }
 },
 "nbformat": 4,
 "nbformat_minor": 5
}
